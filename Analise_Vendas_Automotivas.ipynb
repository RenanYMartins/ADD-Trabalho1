{
  "nbformat": 4,
  "nbformat_minor": 0,
  "metadata": {
    "colab": {
      "provenance": [],
      "authorship_tag": "ABX9TyP2m8wZYiKS54Vp2Rqc7c8g",
      "include_colab_link": true
    },
    "kernelspec": {
      "name": "python3",
      "display_name": "Python 3"
    },
    "language_info": {
      "name": "python"
    }
  },
  "cells": [
    {
      "cell_type": "markdown",
      "metadata": {
        "id": "view-in-github",
        "colab_type": "text"
      },
      "source": [
        "<a href=\"https://colab.research.google.com/github/RenanYMartins/ADD-Trabalho1/blob/main/Analise_Vendas_Automotivas.ipynb\" target=\"_parent\"><img src=\"https://colab.research.google.com/assets/colab-badge.svg\" alt=\"Open In Colab\"/></a>"
      ]
    },
    {
      "cell_type": "markdown",
      "source": [
        " **Descrição geral:** <br>\n",
        " Base de dados com registros de pedidos realizados em uma empresa do setor automobilístico. Permite\n",
        " avaliar o desempenho de vendas, perfis de clientes e padrões de compra.\n",
        "\n",
        "**Desafios da Análise**<br>\n",
        "- Analisar os padrões de compra por cliente ou produto.\n",
        "- Relacionar categorias de produtos com volume de vendas.\n",
        "- Avaliar o tempo entre pedidos e sua relação com o tamanho do negócio.\n",
        "- Identicar clientes com maior potencial de retorno financeiro."
      ],
      "metadata": {
        "id": "IRyuU2vN3Vy1"
      }
    },
    {
      "cell_type": "markdown",
      "source": [
        "**Dicionário de dados traduzido:** <br>\n",
        "- ORDERNUMBER: Número de identi cação do pedido.\n",
        "- QUANTITYORDERED: Quantidade de itens solicitados.\n",
        "- PRICEEACH: Preço unitário de cada item.\n",
        "- ORDERLINENUMBER: Número da linha dentro do pedido.\n",
        "- SALES: Total da venda (quantidade × preço).\n",
        "- ORDERDATE: Data do pedido.\n",
        "- DAYS_SINCE_LASTORDER: Dias desde o último pedido do cliente.\n",
        "- STATUS: Status do pedido (ex: Enviado, Em Processamento, Cancelado).\n",
        "- PRODUCTLINE: Categoria do produto.\n",
        "- MSRP: Preço de venda sugerido pelo fabricante.\n",
        "- PRODUCTCODE: Código do produto.\n",
        "- CUSTOMERNAME: Nome do cliente.\n",
        "- PHONE: Telefone de contato do cliente.\n",
        "- ADDRESSLINE1: Endereço do cliente.\n",
        "- CITY: Cidade do cliente.\n",
        "- POSTALCODE: Código postal do cliente.\n",
        "- COUNTRY: País do cliente.\n",
        "- CONTACTLASTNAME: Sobrenome do contato.\n",
        "- CONTACTFIRSTNAME: Nome do contato.\n",
        "- DEALSIZE: Tamanho do pedido (Pequeno, Médio, Grande)"
      ],
      "metadata": {
        "id": "gtdsbUrn5FYS"
      }
    },
    {
      "cell_type": "code",
      "source": [],
      "metadata": {
        "id": "_ycNeqsD5Z8h"
      },
      "execution_count": null,
      "outputs": []
    },
    {
      "cell_type": "code",
      "source": [],
      "metadata": {
        "id": "mkJo3caN3c5E"
      },
      "execution_count": null,
      "outputs": []
    },
    {
      "cell_type": "code",
      "execution_count": null,
      "metadata": {
        "id": "Y23RsCvR3Fks"
      },
      "outputs": [],
      "source": []
    }
  ]
}